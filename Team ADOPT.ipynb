{
 "cells": [
  {
   "cell_type": "code",
   "execution_count": 34,
   "id": "de2fc928",
   "metadata": {},
   "outputs": [],
   "source": [
    "import numpy as np\n",
    "import pandas as pd\n",
    "import math\n",
    "import os\n",
    "import PIL\n",
    "import sys\n",
    "import PIL.Image\n",
    "from PIL import Image\n",
    "from io import StringIO\n",
    "import tensorflow as tf\n",
    "from zipfile import ZipFile\n",
    "import tensorflow_datasets as tfds\n",
    "import matplotlib.pyplot as plt"
   ]
  },
  {
   "cell_type": "code",
   "execution_count": 35,
   "id": "8fe46806",
   "metadata": {},
   "outputs": [],
   "source": [
    "img=Image.open('img (1).jpg') #importing using PIL"
   ]
  },
  {
   "cell_type": "code",
   "execution_count": 36,
   "id": "4d101907",
   "metadata": {},
   "outputs": [
    {
     "name": "stdout",
     "output_type": "stream",
     "text": [
      "JPEG\n"
     ]
    }
   ],
   "source": [
    "print(img.format)"
   ]
  },
  {
   "cell_type": "code",
   "execution_count": 37,
   "id": "bcfd6778",
   "metadata": {},
   "outputs": [],
   "source": [
    "img1=np.asarray(img)#Converting it to nparray for standard applications"
   ]
  },
  {
   "cell_type": "code",
   "execution_count": 38,
   "id": "b98866ec",
   "metadata": {},
   "outputs": [
    {
     "data": {
      "text/plain": [
       "(1235, 1653, 3)"
      ]
     },
     "execution_count": 38,
     "metadata": {},
     "output_type": "execute_result"
    }
   ],
   "source": [
    "img1.shape"
   ]
  },
  {
   "cell_type": "code",
   "execution_count": 39,
   "id": "c86eab53",
   "metadata": {},
   "outputs": [],
   "source": [
    "# pip install opencv-python\n",
    "# pip install git+git://github.com/jaidedai/easyocr.git"
   ]
  },
  {
   "cell_type": "code",
   "execution_count": 40,
   "id": "c9ad4fe2",
   "metadata": {},
   "outputs": [],
   "source": [
    "import cv2"
   ]
  },
  {
   "cell_type": "code",
   "execution_count": 41,
   "id": "fa9d832c",
   "metadata": {},
   "outputs": [],
   "source": [
    "img=cv2.imread('img (1).jpg',1)"
   ]
  },
  {
   "cell_type": "code",
   "execution_count": 42,
   "id": "c17a57b3",
   "metadata": {},
   "outputs": [],
   "source": [
    "# cv2.imshow('color img',img)\n",
    "# cv2.waitKey(0)\n",
    "# cv2.destoryAllWindows()"
   ]
  },
  {
   "cell_type": "code",
   "execution_count": 43,
   "id": "81513bb7",
   "metadata": {},
   "outputs": [],
   "source": [
    "#glob\n",
    "import glob"
   ]
  },
  {
   "cell_type": "code",
   "execution_count": 44,
   "id": "eca64b9c",
   "metadata": {},
   "outputs": [],
   "source": [
    "path=\"Users/shridhar/Hackathon Dr. reddy*.JPG\"\n",
    "\n",
    "path1='Users/shridhar/OneDrive - smail.iitm.ac.in/Desktop'"
   ]
  },
  {
   "cell_type": "code",
   "execution_count": 45,
   "id": "369ff127",
   "metadata": {},
   "outputs": [],
   "source": [
    "filenames = glob.glob(\"test_set/*.jpg\")\n",
    "filenames.sort()\n",
    "images = [cv2.imread(img) for img in filenames]\n",
    "\n",
    "# for img in images:\n",
    "# #     print(img)"
   ]
  },
  {
   "cell_type": "code",
   "execution_count": 46,
   "id": "6d526e3c",
   "metadata": {},
   "outputs": [
    {
     "name": "stdout",
     "output_type": "stream",
     "text": [
      "(1235, 1653, 3)\n",
      "(1600, 2134, 3)\n",
      "(1600, 2134, 3)\n",
      "(1653, 2339, 3)\n",
      "(1235, 1653, 3)\n",
      "(512, 683, 3)\n",
      "(1653, 2339, 3)\n",
      "(1653, 2339, 3)\n",
      "(1600, 2134, 3)\n",
      "(1235, 1653, 3)\n",
      "(1653, 2339, 3)\n",
      "(1653, 2339, 3)\n",
      "(1600, 2134, 3)\n",
      "(1600, 2134, 3)\n",
      "(1600, 2134, 3)\n",
      "(1653, 2339, 3)\n",
      "(1600, 2134, 3)\n",
      "(512, 683, 3)\n",
      "(512, 683, 3)\n",
      "(1653, 2339, 3)\n",
      "(1600, 2134, 3)\n"
     ]
    }
   ],
   "source": [
    "for i in range(len(images)):\n",
    "    print(images[i].shape)"
   ]
  },
  {
   "cell_type": "code",
   "execution_count": 47,
   "id": "91ffb2b4",
   "metadata": {},
   "outputs": [
    {
     "name": "stderr",
     "output_type": "stream",
     "text": [
      "Using CPU. Note: This module is much faster with a GPU.\n"
     ]
    }
   ],
   "source": [
    "import easyocr\n",
    "import cv2\n",
    "\n",
    "#For the first time it downloads the models for the languages chosen below. \n",
    "#Not all languages are compatible with each other so you cannot put\n",
    "#multiple languages below\n",
    "#reader = easyocr.Reader(['hi', 'te', 'en'])  #Hindi, telugu, and English\n",
    "#The above gives error that Telugu is only compatible with English.\n",
    "\n",
    "#So let us just use Hindi and English \n",
    "#To use GPU you need to have CUDA configured for the pytorch library.\n",
    "reader = easyocr.Reader(['hi', 'en'], gpu=False)  #Hindi, telugu, and English\n",
    "\n",
    "img = cv2.imread('img (10).jpg')\n",
    "\n",
    "\n",
    "results = reader.readtext(img, detail=1, paragraph=False) #Set detail to 0 for simple text output\n",
    "#Paragraph=True will combine all results making it easy to capture it in a dataframe. \n",
    "\n",
    "\n",
    "#To display the text on the original image or show bounding boxes\n",
    "#we need the coordinates for the text. So make sure the detail=1 above, readtext.\n",
    "# display the OCR'd text and associated probability\n",
    "for (bbox, text, prob) in results:\n",
    "    \n",
    "    #Define bounding boxes\n",
    "    (tl, tr, br, bl) = bbox\n",
    "    tl = (int(tl[0]), int(tl[1]))\n",
    "    tr = (int(tr[0]), int(tr[1]))\n",
    "    br = (int(br[0]), int(br[1]))\n",
    "    bl = (int(bl[0]), int(bl[1]))\n",
    "    \n",
    "    #Remove non-ASCII characters to display clean text on the image (using opencv)\n",
    "    text = \"\".join([c if ord(c) < 128 else \"\" for c in text]).strip()\n",
    "   \n",
    "    #Put rectangles and text on the image\n",
    "    cv2.rectangle(img, tl, br, (0, 255, 0), 2)\n",
    "    cv2.putText(img, text, (tl[0], tl[1] - 10), \n",
    "                cv2.FONT_HERSHEY_SIMPLEX, 0.8, (0, 255, 0), 2)\n",
    "# show the output image\n",
    "# cv2.imshow(\"Image\", img)\n",
    "# cv2.waitKey(0)\n",
    "\n",
    "#####################################################################\n",
    "\n"
   ]
  },
  {
   "cell_type": "code",
   "execution_count": 48,
   "id": "c2287444",
   "metadata": {},
   "outputs": [],
   "source": [
    "results\n",
    "texts=[x[1] for x in results]\n",
    "locations=[x[0] for x in results]"
   ]
  },
  {
   "cell_type": "code",
   "execution_count": null,
   "id": "0def7d35",
   "metadata": {},
   "outputs": [],
   "source": []
  },
  {
   "cell_type": "code",
   "execution_count": 49,
   "id": "8ecca2c5",
   "metadata": {},
   "outputs": [
    {
     "data": {
      "image/png": "[encoded data removed]",
      "text/plain": [
       "<Figure size 432x288 with 1 Axes>"
      ]
     },
     "metadata": {
      "needs_background": "light"
     },
     "output_type": "display_data"
    }
   ],
   "source": [
    "# # pip3 install torch torchvision torchaudio\n",
    "plt.imshow(img)\n",
    "plt.show()"
   ]
  },
  {
   "cell_type": "code",
   "execution_count": 50,
   "id": "6a064de1",
   "metadata": {},
   "outputs": [
    {
     "name": "stderr",
     "output_type": "stream",
     "text": [
      "CUDA not available - defaulting to CPU. Note: This module is much faster with a GPU.\n"
     ]
    }
   ],
   "source": [
    "#Read multiple images in a directory, extract text using OCR and capture \n",
    "# it in a pandas dataframe. \n",
    "import cv2\n",
    "import glob\n",
    "import pandas as pd\n",
    "\n",
    "# #select the path\n",
    "path = \"test_set/*.jpg\"\n",
    "img_number = 1 \n",
    "reader = easyocr.Reader(['en'])  #English\n",
    "df=pd.DataFrame()\n",
    "L = []\n",
    "for file in glob.glob(path):\n",
    "    img= cv2.imread(file, 0)  #now, we can read each file since we have the full path\n",
    "    results = reader.readtext(img, detail=1, paragraph=True) #Set detail to 0 for simple text output\n",
    "    texts=[x[1] for x in results]\n",
    "    locations=[x[0] for x in results]\n",
    "    dat= [[file, texts, locations]]\n",
    "    L.append(dat)\n",
    "    img_number +=1\n",
    "\n",
    "#     df.insert(0, 'file', file)\n",
    "#     df.insert(1, 'locations', locations)\n",
    "#     df.insert(2, 'text', texts)\n",
    "#     df['image']=df.append(list(file), ignore_index=True)\n",
    "#     df['detected_text']=df['detected_text'].append(texts, ignore_index=True)\n",
    "#     df['locations']=df['locations'].append(loacations, ignore_index=True)\n",
    "#     df = df.append(pd.DataFrame({'image': file, 'detected_text':texts,'location':locations}, index=[0]), ignore_index=True)\n",
    "       "
   ]
  },
  {
   "cell_type": "code",
   "execution_count": null,
   "id": "76930c5b",
   "metadata": {},
   "outputs": [],
   "source": []
  },
  {
   "cell_type": "code",
   "execution_count": 51,
   "id": "7559b0b3",
   "metadata": {},
   "outputs": [
    {
     "name": "stderr",
     "output_type": "stream",
     "text": [
      "<ipython-input-51-93369efff158>:1: VisibleDeprecationWarning: Creating an ndarray from ragged nested sequences (which is a list-or-tuple of lists-or-tuples-or ndarrays with different lengths or shapes) is deprecated. If you meant to do this, you must specify 'dtype=object' when creating the ndarray.\n",
      "  L=np.array(L)\n"
     ]
    }
   ],
   "source": [
    "L=np.array(L)"
   ]
  },
  {
   "cell_type": "code",
   "execution_count": 52,
   "id": "7d797712",
   "metadata": {},
   "outputs": [],
   "source": [
    "# df = pd.DataFrame(L[][], columns = )"
   ]
  },
  {
   "cell_type": "code",
   "execution_count": 53,
   "id": "29d2b292",
   "metadata": {},
   "outputs": [],
   "source": [
    "# names = ['file', 'texts', 'locations']\n",
    "# index = pd.MultiIndex.from_product([range(s)for s in L.shape], names=names)\n",
    "# df = pd.DataFrame({'A': L.flatten()}, index=index)"
   ]
  },
  {
   "cell_type": "code",
   "execution_count": 54,
   "id": "e907b100",
   "metadata": {},
   "outputs": [
    {
     "data": {
      "text/plain": [
       "(21, 1, 3)"
      ]
     },
     "execution_count": 54,
     "metadata": {},
     "output_type": "execute_result"
    }
   ],
   "source": [
    "L.shape"
   ]
  },
  {
   "cell_type": "code",
   "execution_count": 55,
   "id": "b45d828b",
   "metadata": {},
   "outputs": [],
   "source": [
    "a,b,c = L.shape\n",
    "df= pd.DataFrame(L.reshape(21,-1),index=np.repeat(np.arange(a),b),columns=['file', 'texts', 'locations'] )"
   ]
  },
  {
   "cell_type": "code",
   "execution_count": 56,
   "id": "80f2c0b0",
   "metadata": {},
   "outputs": [
    {
     "data": {
      "text/plain": [
       "array([[1],\n",
       "       [2],\n",
       "       [3],\n",
       "       [4],\n",
       "       [5],\n",
       "       [6]])"
      ]
     },
     "execution_count": 56,
     "metadata": {},
     "output_type": "execute_result"
    }
   ],
   "source": [
    "a = np.array([[1,2,3], [4,5,6]])\n",
    "a.reshape(6,-1)"
   ]
  },
  {
   "cell_type": "code",
   "execution_count": 57,
   "id": "2979af29",
   "metadata": {},
   "outputs": [
    {
     "name": "stderr",
     "output_type": "stream",
     "text": [
      "<ipython-input-57-3c5ebd20cdeb>:3: SettingWithCopyWarning: \n",
      "A value is trying to be set on a copy of a slice from a DataFrame\n",
      "\n",
      "See the caveats in the documentation: https://pandas.pydata.org/pandas-docs/stable/user_guide/indexing.html#returning-a-view-versus-a-copy\n",
      "  df['words'][i]=[word for line in df['texts'][i] for word in line.split()]\n",
      "C:\\Users\\shridhar\\anaconda3\\lib\\site-packages\\pandas\\core\\indexing.py:1637: SettingWithCopyWarning: \n",
      "A value is trying to be set on a copy of a slice from a DataFrame\n",
      "\n",
      "See the caveats in the documentation: https://pandas.pydata.org/pandas-docs/stable/user_guide/indexing.html#returning-a-view-versus-a-copy\n",
      "  self._setitem_single_block(indexer, value, name)\n"
     ]
    }
   ],
   "source": [
    "df['words']=0\n",
    "for i in range(len(df)):\n",
    "    df['words'][i]=[word for line in df['texts'][i] for word in line.split()]"
   ]
  },
  {
   "cell_type": "code",
   "execution_count": 58,
   "id": "4ee8db14",
   "metadata": {},
   "outputs": [
    {
     "name": "stderr",
     "output_type": "stream",
     "text": [
      "<ipython-input-58-bf322f159c30>:3: SettingWithCopyWarning: \n",
      "A value is trying to be set on a copy of a slice from a DataFrame\n",
      "\n",
      "See the caveats in the documentation: https://pandas.pydata.org/pandas-docs/stable/user_guide/indexing.html#returning-a-view-versus-a-copy\n",
      "  df['total_words'][i]=len(df['words'][i])\n"
     ]
    }
   ],
   "source": [
    "df['total_words']=0\n",
    "for i in range(len(df)):\n",
    "    df['total_words'][i]=len(df['words'][i])\n"
   ]
  },
  {
   "cell_type": "code",
   "execution_count": null,
   "id": "9bfdabf9",
   "metadata": {},
   "outputs": [],
   "source": []
  },
  {
   "cell_type": "code",
   "execution_count": 59,
   "id": "b5ee7670",
   "metadata": {},
   "outputs": [],
   "source": [
    "# df.to_excel('text.xlsx')"
   ]
  },
  {
   "cell_type": "code",
   "execution_count": 60,
   "id": "2da7f305",
   "metadata": {},
   "outputs": [
    {
     "data": {
      "text/html": [
       "<div>\n",
       "<style scoped>\n",
       "    .dataframe tbody tr th:only-of-type {\n",
       "        vertical-align: middle;\n",
       "    }\n",
       "\n",
       "    .dataframe tbody tr th {\n",
       "        vertical-align: top;\n",
       "    }\n",
       "\n",
       "    .dataframe thead th {\n",
       "        text-align: right;\n",
       "    }\n",
       "</style>\n",
       "<table border=\"1\" class=\"dataframe\">\n",
       "  <thead>\n",
       "    <tr style=\"text-align: right;\">\n",
       "      <th></th>\n",
       "      <th>file</th>\n",
       "      <th>texts</th>\n",
       "      <th>locations</th>\n",
       "      <th>words</th>\n",
       "      <th>total_words</th>\n",
       "    </tr>\n",
       "  </thead>\n",
       "  <tbody>\n",
       "    <tr>\n",
       "      <th>0</th>\n",
       "      <td>test_set\\img (1).jpg</td>\n",
       "      <td>[DrReddys, In cough associated with cold R ZED...</td>\n",
       "      <td>[[[1439, 48], [1561, 48], [1561, 78], [1439, 7...</td>\n",
       "      <td>[DrReddys, In, cough, associated, with, cold, ...</td>\n",
       "      <td>67</td>\n",
       "    </tr>\n",
       "    <tr>\n",
       "      <th>1</th>\n",
       "      <td>test_set\\img (10).jpg</td>\n",
       "      <td>[Dr Reddys, For 3X faster healing of wounds li...</td>\n",
       "      <td>[[[1835, 63], [2023, 63], [2023, 107], [1835, ...</td>\n",
       "      <td>[Dr, Reddys, For, 3X, faster, healing, of, wou...</td>\n",
       "      <td>35</td>\n",
       "    </tr>\n",
       "    <tr>\n",
       "      <th>2</th>\n",
       "      <td>test_set\\img (11).jpg</td>\n",
       "      <td>[nisegel_ Tough on Pain, Back Pain, Knee Pain,...</td>\n",
       "      <td>[[[1364, 18], [1955, 18], [1955, 267], [1364, ...</td>\n",
       "      <td>[nisegel_, Tough, on, Pain, Back, Pain, Knee, ...</td>\n",
       "      <td>61</td>\n",
       "    </tr>\n",
       "    <tr>\n",
       "      <th>3</th>\n",
       "      <td>test_set\\img (12).jpg</td>\n",
       "      <td>[Treatment of Dyslipidemia patients based on, ...</td>\n",
       "      <td>[[[653, 173], [1685, 173], [1685, 260], [653, ...</td>\n",
       "      <td>[Treatment, of, Dyslipidemia, patients, based,...</td>\n",
       "      <td>77</td>\n",
       "    </tr>\n",
       "    <tr>\n",
       "      <th>4</th>\n",
       "      <td>test_set\\img (13).jpg</td>\n",
       "      <td>[In Hypertensive Patients With CKD, D A Y Stai...</td>\n",
       "      <td>[[[103, 123], [715, 123], [715, 500], [103, 50...</td>\n",
       "      <td>[In, Hypertensive, Patients, With, CKD,, D, A,...</td>\n",
       "      <td>55</td>\n",
       "    </tr>\n",
       "    <tr>\n",
       "      <th>5</th>\n",
       "      <td>test_set\\img (14).jpg</td>\n",
       "      <td>[Dr-Redats, The only guardian mouthwash;, with...</td>\n",
       "      <td>[[[612, 16], [652, 16], [652, 24], [612, 24]],...</td>\n",
       "      <td>[Dr-Redats, The, only, guardian, mouthwash;, w...</td>\n",
       "      <td>71</td>\n",
       "    </tr>\n",
       "    <tr>\n",
       "      <th>6</th>\n",
       "      <td>test_set\\img (15).jpg</td>\n",
       "      <td>[Dr Reddy's, DAY 3, Continued long term releas...</td>\n",
       "      <td>[[[2030, 73], [2148, 73], [2148, 101], [2030, ...</td>\n",
       "      <td>[Dr, Reddy's, DAY, 3, Continued, long, term, r...</td>\n",
       "      <td>80</td>\n",
       "    </tr>\n",
       "    <tr>\n",
       "      <th>7</th>\n",
       "      <td>test_set\\img (16).jpg</td>\n",
       "      <td>[DrReddys, Continued long term release of Ca a...</td>\n",
       "      <td>[[[2026, 71], [2147, 71], [2147, 108], [2026, ...</td>\n",
       "      <td>[DrReddys, Continued, long, term, release, of,...</td>\n",
       "      <td>37</td>\n",
       "    </tr>\n",
       "    <tr>\n",
       "      <th>8</th>\n",
       "      <td>test_set\\img (17).jpg</td>\n",
       "      <td>[Senile Xerosis causes intense skin drynessio,...</td>\n",
       "      <td>[[[94, 124], [864, 124], [864, 276], [94, 276]...</td>\n",
       "      <td>[Senile, Xerosis, causes, intense, skin, dryne...</td>\n",
       "      <td>56</td>\n",
       "    </tr>\n",
       "    <tr>\n",
       "      <th>9</th>\n",
       "      <td>test_set\\img (18).jpg</td>\n",
       "      <td>[Die Reddys, 'THE ITCH' TAKES CONTROL OVER YOU...</td>\n",
       "      <td>[[[1295, 59], [1503, 59], [1503, 122], [1295, ...</td>\n",
       "      <td>[Die, Reddys, 'THE, ITCH', TAKES, CONTROL, OVE...</td>\n",
       "      <td>21</td>\n",
       "    </tr>\n",
       "    <tr>\n",
       "      <th>10</th>\n",
       "      <td>test_set\\img (19).jpg</td>\n",
       "      <td>[In WILD-TYPE RAS mCRC, Vectibix (ponitumumab)...</td>\n",
       "      <td>[[[603, 157], [974, 157], [974, 197], [603, 19...</td>\n",
       "      <td>[In, WILD-TYPE, RAS, mCRC, Vectibix, (ponitumu...</td>\n",
       "      <td>134</td>\n",
       "    </tr>\n",
       "    <tr>\n",
       "      <th>11</th>\n",
       "      <td>test_set\\img (2).jpg</td>\n",
       "      <td>[For the use only of a Registered Medical Prac...</td>\n",
       "      <td>[[[221, 115], [1065, 115], [1065, 156], [221, ...</td>\n",
       "      <td>[For, the, use, only, of, a, Registered, Medic...</td>\n",
       "      <td>42</td>\n",
       "    </tr>\n",
       "    <tr>\n",
       "      <th>12</th>\n",
       "      <td>test_set\\img (20).jpg</td>\n",
       "      <td>[120 mg] 1.7mL deliverable doset, XGEVA MJb Le...</td>\n",
       "      <td>[[[1824, 258], [2016, 258], [2016, 423], [1824...</td>\n",
       "      <td>[120, mg], 1.7mL, deliverable, doset, XGEVA, M...</td>\n",
       "      <td>152</td>\n",
       "    </tr>\n",
       "    <tr>\n",
       "      <th>13</th>\n",
       "      <td>test_set\\img (21).jpg</td>\n",
       "      <td>[Dr Reddys, Synergism depends not only on righ...</td>\n",
       "      <td>[[[1831, 77], [2003, 77], [2003, 119], [1831, ...</td>\n",
       "      <td>[Dr, Reddys, Synergism, depends, not, only, on...</td>\n",
       "      <td>99</td>\n",
       "    </tr>\n",
       "    <tr>\n",
       "      <th>14</th>\n",
       "      <td>test_set\\img (3).jpg</td>\n",
       "      <td>[For the use only of a Registered Medical Prac...</td>\n",
       "      <td>[[[101, 75], [963, 75], [963, 115], [101, 115]...</td>\n",
       "      <td>[For, the, use, only, of, a, Registered, Medic...</td>\n",
       "      <td>107</td>\n",
       "    </tr>\n",
       "    <tr>\n",
       "      <th>15</th>\n",
       "      <td>test_set\\img (4).jpg</td>\n",
       "      <td>[Dr Reddys, In Reflux &amp; Dyspepsia with Nausea ...</td>\n",
       "      <td>[[[1953, 90], [2130, 90], [2130, 139], [1953, ...</td>\n",
       "      <td>[Dr, Reddys, In, Reflux, &amp;, Dyspepsia, with, N...</td>\n",
       "      <td>34</td>\n",
       "    </tr>\n",
       "    <tr>\n",
       "      <th>16</th>\n",
       "      <td>test_set\\img (5).jpg</td>\n",
       "      <td>[For the use of a Registered Medical Practitio...</td>\n",
       "      <td>[[[79, 81], [917, 81], [917, 121], [79, 121]],...</td>\n",
       "      <td>[For, the, use, of, a, Registered, Medical, Pr...</td>\n",
       "      <td>44</td>\n",
       "    </tr>\n",
       "    <tr>\n",
       "      <th>17</th>\n",
       "      <td>test_set\\img (6).jpg</td>\n",
       "      <td>[Dr Reddy 5, #FARST TO FINISH THE RACE OF RELI...</td>\n",
       "      <td>[[[597, 15], [651, 15], [651, 29], [597, 29]],...</td>\n",
       "      <td>[Dr, Reddy, 5, #FARST, TO, FINISH, THE, RACE, ...</td>\n",
       "      <td>25</td>\n",
       "    </tr>\n",
       "    <tr>\n",
       "      <th>18</th>\n",
       "      <td>test_set\\img (7).jpg</td>\n",
       "      <td>[Dr Reddy 5, #FRRST DcRecty\" TO FINISH Sacch_r...</td>\n",
       "      <td>[[[597, 15], [651, 15], [651, 29], [597, 29]],...</td>\n",
       "      <td>[Dr, Reddy, 5, #FRRST, DcRecty\", TO, FINISH, S...</td>\n",
       "      <td>56</td>\n",
       "    </tr>\n",
       "    <tr>\n",
       "      <th>19</th>\n",
       "      <td>test_set\\img (8).jpg</td>\n",
       "      <td>[Indicated in Androgenetic Alopecia TM MINTOP ...</td>\n",
       "      <td>[[[167, 51], [1206, 51], [1206, 330], [167, 33...</td>\n",
       "      <td>[Indicated, in, Androgenetic, Alopecia, TM, MI...</td>\n",
       "      <td>71</td>\n",
       "    </tr>\n",
       "    <tr>\n",
       "      <th>20</th>\n",
       "      <td>test_set\\img (9).jpg</td>\n",
       "      <td>[Dr: Reddys, In Vitamins and mineral deficienc...</td>\n",
       "      <td>[[[1722, 60], [1964, 60], [1964, 133], [1722, ...</td>\n",
       "      <td>[Dr:, Reddys, In, Vitamins, and, mineral, defi...</td>\n",
       "      <td>59</td>\n",
       "    </tr>\n",
       "  </tbody>\n",
       "</table>\n",
       "</div>"
      ],
      "text/plain": [
       "                     file                                              texts  \\\n",
       "0    test_set\\img (1).jpg  [DrReddys, In cough associated with cold R ZED...   \n",
       "1   test_set\\img (10).jpg  [Dr Reddys, For 3X faster healing of wounds li...   \n",
       "2   test_set\\img (11).jpg  [nisegel_ Tough on Pain, Back Pain, Knee Pain,...   \n",
       "3   test_set\\img (12).jpg  [Treatment of Dyslipidemia patients based on, ...   \n",
       "4   test_set\\img (13).jpg  [In Hypertensive Patients With CKD, D A Y Stai...   \n",
       "5   test_set\\img (14).jpg  [Dr-Redats, The only guardian mouthwash;, with...   \n",
       "6   test_set\\img (15).jpg  [Dr Reddy's, DAY 3, Continued long term releas...   \n",
       "7   test_set\\img (16).jpg  [DrReddys, Continued long term release of Ca a...   \n",
       "8   test_set\\img (17).jpg  [Senile Xerosis causes intense skin drynessio,...   \n",
       "9   test_set\\img (18).jpg  [Die Reddys, 'THE ITCH' TAKES CONTROL OVER YOU...   \n",
       "10  test_set\\img (19).jpg  [In WILD-TYPE RAS mCRC, Vectibix (ponitumumab)...   \n",
       "11   test_set\\img (2).jpg  [For the use only of a Registered Medical Prac...   \n",
       "12  test_set\\img (20).jpg  [120 mg] 1.7mL deliverable doset, XGEVA MJb Le...   \n",
       "13  test_set\\img (21).jpg  [Dr Reddys, Synergism depends not only on righ...   \n",
       "14   test_set\\img (3).jpg  [For the use only of a Registered Medical Prac...   \n",
       "15   test_set\\img (4).jpg  [Dr Reddys, In Reflux & Dyspepsia with Nausea ...   \n",
       "16   test_set\\img (5).jpg  [For the use of a Registered Medical Practitio...   \n",
       "17   test_set\\img (6).jpg  [Dr Reddy 5, #FARST TO FINISH THE RACE OF RELI...   \n",
       "18   test_set\\img (7).jpg  [Dr Reddy 5, #FRRST DcRecty\" TO FINISH Sacch_r...   \n",
       "19   test_set\\img (8).jpg  [Indicated in Androgenetic Alopecia TM MINTOP ...   \n",
       "20   test_set\\img (9).jpg  [Dr: Reddys, In Vitamins and mineral deficienc...   \n",
       "\n",
       "                                            locations  \\\n",
       "0   [[[1439, 48], [1561, 48], [1561, 78], [1439, 7...   \n",
       "1   [[[1835, 63], [2023, 63], [2023, 107], [1835, ...   \n",
       "2   [[[1364, 18], [1955, 18], [1955, 267], [1364, ...   \n",
       "3   [[[653, 173], [1685, 173], [1685, 260], [653, ...   \n",
       "4   [[[103, 123], [715, 123], [715, 500], [103, 50...   \n",
       "5   [[[612, 16], [652, 16], [652, 24], [612, 24]],...   \n",
       "6   [[[2030, 73], [2148, 73], [2148, 101], [2030, ...   \n",
       "7   [[[2026, 71], [2147, 71], [2147, 108], [2026, ...   \n",
       "8   [[[94, 124], [864, 124], [864, 276], [94, 276]...   \n",
       "9   [[[1295, 59], [1503, 59], [1503, 122], [1295, ...   \n",
       "10  [[[603, 157], [974, 157], [974, 197], [603, 19...   \n",
       "11  [[[221, 115], [1065, 115], [1065, 156], [221, ...   \n",
       "12  [[[1824, 258], [2016, 258], [2016, 423], [1824...   \n",
       "13  [[[1831, 77], [2003, 77], [2003, 119], [1831, ...   \n",
       "14  [[[101, 75], [963, 75], [963, 115], [101, 115]...   \n",
       "15  [[[1953, 90], [2130, 90], [2130, 139], [1953, ...   \n",
       "16  [[[79, 81], [917, 81], [917, 121], [79, 121]],...   \n",
       "17  [[[597, 15], [651, 15], [651, 29], [597, 29]],...   \n",
       "18  [[[597, 15], [651, 15], [651, 29], [597, 29]],...   \n",
       "19  [[[167, 51], [1206, 51], [1206, 330], [167, 33...   \n",
       "20  [[[1722, 60], [1964, 60], [1964, 133], [1722, ...   \n",
       "\n",
       "                                                words  total_words  \n",
       "0   [DrReddys, In, cough, associated, with, cold, ...           67  \n",
       "1   [Dr, Reddys, For, 3X, faster, healing, of, wou...           35  \n",
       "2   [nisegel_, Tough, on, Pain, Back, Pain, Knee, ...           61  \n",
       "3   [Treatment, of, Dyslipidemia, patients, based,...           77  \n",
       "4   [In, Hypertensive, Patients, With, CKD,, D, A,...           55  \n",
       "5   [Dr-Redats, The, only, guardian, mouthwash;, w...           71  \n",
       "6   [Dr, Reddy's, DAY, 3, Continued, long, term, r...           80  \n",
       "7   [DrReddys, Continued, long, term, release, of,...           37  \n",
       "8   [Senile, Xerosis, causes, intense, skin, dryne...           56  \n",
       "9   [Die, Reddys, 'THE, ITCH', TAKES, CONTROL, OVE...           21  \n",
       "10  [In, WILD-TYPE, RAS, mCRC, Vectibix, (ponitumu...          134  \n",
       "11  [For, the, use, only, of, a, Registered, Medic...           42  \n",
       "12  [120, mg], 1.7mL, deliverable, doset, XGEVA, M...          152  \n",
       "13  [Dr, Reddys, Synergism, depends, not, only, on...           99  \n",
       "14  [For, the, use, only, of, a, Registered, Medic...          107  \n",
       "15  [Dr, Reddys, In, Reflux, &, Dyspepsia, with, N...           34  \n",
       "16  [For, the, use, of, a, Registered, Medical, Pr...           44  \n",
       "17  [Dr, Reddy, 5, #FARST, TO, FINISH, THE, RACE, ...           25  \n",
       "18  [Dr, Reddy, 5, #FRRST, DcRecty\", TO, FINISH, S...           56  \n",
       "19  [Indicated, in, Androgenetic, Alopecia, TM, MI...           71  \n",
       "20  [Dr:, Reddys, In, Vitamins, and, mineral, defi...           59  "
      ]
     },
     "execution_count": 60,
     "metadata": {},
     "output_type": "execute_result"
    }
   ],
   "source": [
    "df"
   ]
  },
  {
   "cell_type": "code",
   "execution_count": 73,
   "id": "9770ffcb",
   "metadata": {},
   "outputs": [
    {
     "data": {
      "text/plain": [
       "32041"
      ]
     },
     "execution_count": 73,
     "metadata": {},
     "output_type": "execute_result"
    }
   ],
   "source": [
    "####Finding area of text \n",
    "#np.dot(np.subtract(df['locations'][1][1][3],df['locations'][1][1][0]),np.subtract(df['locations'][1][1][2],df['locations'][1][1][1]))"
   ]
  },
  {
   "cell_type": "code",
   "execution_count": null,
   "id": "d463ee08",
   "metadata": {},
   "outputs": [],
   "source": []
  }
 ],
 "metadata": {
  "kernelspec": {
   "display_name": "Python 3",
   "language": "python",
   "name": "python3"
  },
  "language_info": {
   "codemirror_mode": {
    "name": "ipython",
    "version": 3
   },
   "file_extension": ".py",
   "mimetype": "text/x-python",
   "name": "python",
   "nbconvert_exporter": "python",
   "pygments_lexer": "ipython3",
   "version": "3.8.8"
  }
 },
 "nbformat": 4,
 "nbformat_minor": 5
}
